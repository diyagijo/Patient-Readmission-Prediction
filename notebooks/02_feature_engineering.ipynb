{
  "nbformat": 4,
  "nbformat_minor": 0,
  "metadata": {
    "colab": {
      "provenance": []
    },
    "kernelspec": {
      "name": "python3",
      "display_name": "Python 3"
    },
    "language_info": {
      "name": "python"
    }
  },
  "cells": [
    {
      "cell_type": "code",
      "execution_count": null,
      "metadata": {
        "colab": {
          "base_uri": "https://localhost:8080/"
        },
        "id": "5JVdmtNfAIJ0",
        "outputId": "f8a0de88-9aa6-4491-aed8-01dc22fb9c80"
      },
      "outputs": [
        {
          "output_type": "stream",
          "name": "stdout",
          "text": [
            "Shape: (101766, 51)\n",
            "Categorical columns: ['race', 'gender', 'weight', 'payer_code', 'medical_specialty', 'diag_1', 'diag_2', 'diag_3', 'max_glu_serum', 'A1Cresult', 'metformin', 'repaglinide', 'nateglinide', 'chlorpropamide', 'glimepiride', 'acetohexamide', 'glipizide', 'glyburide', 'tolbutamide', 'pioglitazone', 'rosiglitazone', 'acarbose', 'miglitol', 'troglitazone', 'tolazamide', 'examide', 'citoglipton', 'insulin', 'glyburide-metformin', 'glipizide-metformin', 'glimepiride-pioglitazone', 'metformin-rosiglitazone', 'metformin-pioglitazone', 'change', 'diabetesMed']\n",
            "Data split saved!\n"
          ]
        }
      ],
      "source": [
        "# 02_feature_engineering.ipynb\n",
        "# Feature engineering for Patient Readmission\n",
        "\n",
        "import pandas as pd\n",
        "import numpy as np\n",
        "import os\n",
        "\n",
        "# Load cleaned data\n",
        "df = pd.read_csv(\"/content/eda_cleaned.csv\")\n",
        "\n",
        "print(\"Shape:\", df.shape)\n",
        "df.head()\n",
        "\n",
        "\n",
        "# 1. Drop unnecessary identifiers\n",
        "\n",
        "drop_cols = ['encounter_id', 'patient_nbr', 'readmitted']\n",
        "df.drop(columns=drop_cols, inplace=True, errors='ignore')\n",
        "\n",
        "\n",
        "# 2. Handle Missing Values\n",
        "\n",
        "df = df.replace('?', np.nan)\n",
        "# Example: Fill 'race' with most frequent\n",
        "df['race'] = df['race'].fillna(df['race'].mode()[0])\n",
        "\n",
        "\n",
        "# 3. Age Bucket Conversion\n",
        "\n",
        "def convert_age(x):\n",
        "    # Example: [0-10) -> 5\n",
        "    return int(x.strip('[]()').split('-')[0]) + 5\n",
        "\n",
        "df['age_num'] = df['age'].apply(lambda x: convert_age(str(x)))\n",
        "\n",
        "\n",
        "# 4. Encoding Categorical Variables\n",
        "\n",
        "cat_cols = df.select_dtypes(include='object').columns.tolist()\n",
        "cat_cols.remove('age')  # we already encoded age\n",
        "\n",
        "# We'll handle encoding in pipeline (next notebook)\n",
        "print(\"Categorical columns:\", cat_cols)\n",
        "\n",
        "\n",
        "# 5. Save train/test split\n",
        "\n",
        "from sklearn.model_selection import train_test_split\n",
        "\n",
        "y = df['target']\n",
        "X = df.drop(columns=['target'])\n",
        "\n",
        "X_train, X_test, y_train, y_test = train_test_split(\n",
        "    X, y, test_size=0.2, random_state=42, stratify=y\n",
        ")\n",
        "\n",
        "os.makedirs(\"processed\", exist_ok=True)\n",
        "X_train.to_csv(\"processed/train_X.csv\", index=False)\n",
        "y_train.to_csv(\"processed/train_y.csv\", index=False)\n",
        "X_test.to_csv(\"processed/test_X.csv\", index=False)\n",
        "y_test.to_csv(\"processed/test_y.csv\", index=False)\n",
        "\n",
        "print(\"Data split saved!\")\n"
      ]
    }
  ]
}