{
  "nbformat": 4,
  "nbformat_minor": 0,
  "metadata": {
    "colab": {
      "provenance": []
    },
    "kernelspec": {
      "name": "python3",
      "display_name": "Python 3"
    },
    "language_info": {
      "name": "python"
    }
  },
  "cells": [
    {
      "cell_type": "code",
      "execution_count": null,
      "metadata": {
        "colab": {
          "base_uri": "https://localhost:8080/"
        },
        "id": "e2YuUR1yB_yw",
        "outputId": "93d8dec5-61a2-40d6-8037-e3f82a80c187"
      },
      "outputs": [
        {
          "output_type": "stream",
          "name": "stderr",
          "text": [
            "/usr/local/lib/python3.11/dist-packages/sklearn/linear_model/_logistic.py:465: ConvergenceWarning: lbfgs failed to converge (status=1):\n",
            "STOP: TOTAL NO. OF ITERATIONS REACHED LIMIT.\n",
            "\n",
            "Increase the number of iterations (max_iter) or scale the data as shown in:\n",
            "    https://scikit-learn.org/stable/modules/preprocessing.html\n",
            "Please also refer to the documentation for alternative solver options:\n",
            "    https://scikit-learn.org/stable/modules/linear_model.html#logistic-regression\n",
            "  n_iter_i = _check_optimize_result(\n"
          ]
        },
        {
          "output_type": "stream",
          "name": "stdout",
          "text": [
            "Baseline ROC-AUC: 0.6153920494220323\n",
            "XGBoost ROC-AUC: 0.6518326815845654\n"
          ]
        },
        {
          "output_type": "execute_result",
          "data": {
            "text/plain": [
              "['xgb_readmit.pkl']"
            ]
          },
          "metadata": {},
          "execution_count": 3
        }
      ],
      "source": [
        "# 03_modeling.ipynb\n",
        "# Modeling for Patient Readmission Risk\n",
        "\n",
        "import pandas as pd\n",
        "import joblib\n",
        "import os\n",
        "from sklearn.preprocessing import OneHotEncoder\n",
        "from sklearn.compose import ColumnTransformer\n",
        "from sklearn.pipeline import Pipeline\n",
        "from sklearn.impute import SimpleImputer\n",
        "from sklearn.linear_model import LogisticRegression\n",
        "from sklearn.metrics import roc_auc_score, classification_report, confusion_matrix\n",
        "from xgboost import XGBClassifier\n",
        "\n",
        "\n",
        "# 1. Load Data\n",
        "\n",
        "X_train = pd.read_csv(\"/content/test_X.csv\")\n",
        "y_train = pd.read_csv(\"/content/test_y.csv\").values.ravel()\n",
        "X_test = pd.read_csv(\"/content/train_X.csv\")\n",
        "y_test = pd.read_csv(\"/content/train_y.csv\").values.ravel()\n",
        "\n",
        "\n",
        "# 2. Preprocessing\n",
        "\n",
        "cat_cols = X_train.select_dtypes(include='object').columns.tolist()\n",
        "num_cols = X_train.select_dtypes(exclude='object').columns.tolist()\n",
        "\n",
        "numeric_pipe = Pipeline([\n",
        "    (\"imputer\", SimpleImputer(strategy=\"median\"))\n",
        "])\n",
        "\n",
        "categorical_pipe = Pipeline([\n",
        "    (\"imputer\", SimpleImputer(strategy=\"most_frequent\")),\n",
        "    (\"encoder\", OneHotEncoder(handle_unknown='ignore'))\n",
        "])\n",
        "\n",
        "preprocessor = ColumnTransformer([\n",
        "    (\"num\", numeric_pipe, num_cols),\n",
        "    (\"cat\", categorical_pipe, cat_cols)\n",
        "])\n",
        "\n",
        "\n",
        "# 3. Baseline Model\n",
        "\n",
        "baseline_model = Pipeline([\n",
        "    (\"prep\", preprocessor),\n",
        "    (\"clf\", LogisticRegression(max_iter=1000, class_weight=\"balanced\"))\n",
        "])\n",
        "baseline_model.fit(X_train, y_train)\n",
        "\n",
        "pred_prob = baseline_model.predict_proba(X_test)[:,1]\n",
        "print(\"Baseline ROC-AUC:\", roc_auc_score(y_test, pred_prob))\n",
        "\n",
        "\n",
        "# 4. XGBoost Model\n",
        "\n",
        "X_train_t = preprocessor.fit_transform(X_train)\n",
        "X_test_t = preprocessor.transform(X_test)\n",
        "\n",
        "xgb = XGBClassifier(\n",
        "    n_estimators=300,\n",
        "    max_depth=6,\n",
        "    learning_rate=0.05,\n",
        "    eval_metric=\"auc\",\n",
        "    scale_pos_weight=(len(y_train)-sum(y_train))/sum(y_train)\n",
        ")\n",
        "xgb.fit(X_train_t, y_train)\n",
        "proba = xgb.predict_proba(X_test_t)[:,1]\n",
        "print(\"XGBoost ROC-AUC:\", roc_auc_score(y_test, proba))\n",
        "\n",
        "# 5. Save Artifacts\n",
        "\n",
        "os.makedirs(\"models\", exist_ok=True)\n",
        "joblib.dump(preprocessor, \"preprocessor.pkl\")\n",
        "joblib.dump(xgb, \"xgb_readmit.pkl\")\n"
      ]
    }
  ]
}